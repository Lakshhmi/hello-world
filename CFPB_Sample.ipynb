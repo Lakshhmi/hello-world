{
 "cells": [
  {
   "cell_type": "markdown",
   "metadata": {},
   "source": [
    "# Classifying Consumer Financial Complaints\n",
    "\n",
    "This is supervised multi-class text classification problem. Given a new complaints we need to assign it to one of 4 categories.\n"
   ]
  },
  {
   "cell_type": "code",
   "execution_count": 1,
   "metadata": {},
   "outputs": [],
   "source": [
    "import numpy as np\n",
    "import pandas as pd"
   ]
  },
  {
   "cell_type": "code",
   "execution_count": 2,
   "metadata": {
    "collapsed": true
   },
   "outputs": [],
   "source": [
    "import matplotlib.pyplot as plt\n",
    "import seaborn as sns"
   ]
  },
  {
   "cell_type": "code",
   "execution_count": 3,
   "metadata": {
    "collapsed": true
   },
   "outputs": [],
   "source": [
    "%matplotlib inline"
   ]
  },
  {
   "cell_type": "code",
   "execution_count": 4,
   "metadata": {
    "collapsed": true
   },
   "outputs": [],
   "source": [
    "df = pd.read_excel('CFPB_Sample_20170831.xlsx')\n"
   ]
  },
  {
   "cell_type": "code",
   "execution_count": 5,
   "metadata": {},
   "outputs": [
    {
     "data": {
      "text/html": [
       "<div>\n",
       "<style>\n",
       "    .dataframe thead tr:only-child th {\n",
       "        text-align: right;\n",
       "    }\n",
       "\n",
       "    .dataframe thead th {\n",
       "        text-align: left;\n",
       "    }\n",
       "\n",
       "    .dataframe tbody tr th {\n",
       "        vertical-align: top;\n",
       "    }\n",
       "</style>\n",
       "<table border=\"1\" class=\"dataframe\">\n",
       "  <thead>\n",
       "    <tr style=\"text-align: right;\">\n",
       "      <th></th>\n",
       "      <th>Date received</th>\n",
       "      <th>Product</th>\n",
       "      <th>Sub-product</th>\n",
       "      <th>Issue</th>\n",
       "      <th>Sub-issue</th>\n",
       "      <th>Consumer_complaint_narrative</th>\n",
       "      <th>Company public response</th>\n",
       "      <th>Company</th>\n",
       "      <th>State</th>\n",
       "      <th>ZIP code</th>\n",
       "      <th>Tags</th>\n",
       "      <th>Consumer consent provided?</th>\n",
       "      <th>Submitted via</th>\n",
       "      <th>Date sent to company</th>\n",
       "      <th>Company response to consumer</th>\n",
       "      <th>Timely response?</th>\n",
       "      <th>Consumer disputed?</th>\n",
       "      <th>Complaint ID</th>\n",
       "    </tr>\n",
       "  </thead>\n",
       "  <tbody>\n",
       "    <tr>\n",
       "      <th>0</th>\n",
       "      <td>2016-10-17</td>\n",
       "      <td>Consumer Loan</td>\n",
       "      <td>Vehicle loan</td>\n",
       "      <td>Managing the loan or lease</td>\n",
       "      <td>NaN</td>\n",
       "      <td>I purchased a new car on XXXX XXXX. The car de...</td>\n",
       "      <td>NaN</td>\n",
       "      <td>CITIZENS FINANCIAL GROUP, INC.</td>\n",
       "      <td>PA</td>\n",
       "      <td>177XX</td>\n",
       "      <td>Older American</td>\n",
       "      <td>Consent provided</td>\n",
       "      <td>Web</td>\n",
       "      <td>2016-10-20</td>\n",
       "      <td>Closed with explanation</td>\n",
       "      <td>Yes</td>\n",
       "      <td>No</td>\n",
       "      <td>2163100</td>\n",
       "    </tr>\n",
       "    <tr>\n",
       "      <th>1</th>\n",
       "      <td>2016-04-27</td>\n",
       "      <td>Consumer Loan</td>\n",
       "      <td>Vehicle loan</td>\n",
       "      <td>Managing the loan or lease</td>\n",
       "      <td>NaN</td>\n",
       "      <td>In XXXX of XXXX I bought a new car. The dealer...</td>\n",
       "      <td>NaN</td>\n",
       "      <td>CITIZENS FINANCIAL GROUP, INC.</td>\n",
       "      <td>IN</td>\n",
       "      <td>460XX</td>\n",
       "      <td>NaN</td>\n",
       "      <td>Consent provided</td>\n",
       "      <td>Web</td>\n",
       "      <td>2016-04-29</td>\n",
       "      <td>Closed with monetary relief</td>\n",
       "      <td>Yes</td>\n",
       "      <td>No</td>\n",
       "      <td>1898052</td>\n",
       "    </tr>\n",
       "    <tr>\n",
       "      <th>2</th>\n",
       "      <td>2016-02-26</td>\n",
       "      <td>Consumer Loan</td>\n",
       "      <td>Vehicle loan</td>\n",
       "      <td>Managing the loan or lease</td>\n",
       "      <td>NaN</td>\n",
       "      <td>I had several XXXX XX/XX/XXXX,XX/XX/XXXX and X...</td>\n",
       "      <td>NaN</td>\n",
       "      <td>TOYOTA MOTOR CREDIT CORPORATION</td>\n",
       "      <td>IL</td>\n",
       "      <td>604XX</td>\n",
       "      <td>NaN</td>\n",
       "      <td>Consent provided</td>\n",
       "      <td>Web</td>\n",
       "      <td>2016-03-02</td>\n",
       "      <td>Closed with explanation</td>\n",
       "      <td>Yes</td>\n",
       "      <td>Yes</td>\n",
       "      <td>1806140</td>\n",
       "    </tr>\n",
       "    <tr>\n",
       "      <th>3</th>\n",
       "      <td>2016-10-03</td>\n",
       "      <td>Consumer Loan</td>\n",
       "      <td>Installment loan</td>\n",
       "      <td>Managing the loan or lease</td>\n",
       "      <td>NaN</td>\n",
       "      <td>I have taken out a loan with Citizens One thro...</td>\n",
       "      <td>NaN</td>\n",
       "      <td>CITIZENS FINANCIAL GROUP, INC.</td>\n",
       "      <td>NY</td>\n",
       "      <td>117XX</td>\n",
       "      <td>NaN</td>\n",
       "      <td>Consent provided</td>\n",
       "      <td>Web</td>\n",
       "      <td>2016-10-05</td>\n",
       "      <td>Closed with explanation</td>\n",
       "      <td>Yes</td>\n",
       "      <td>No</td>\n",
       "      <td>2140702</td>\n",
       "    </tr>\n",
       "    <tr>\n",
       "      <th>4</th>\n",
       "      <td>2016-08-08</td>\n",
       "      <td>Consumer Loan</td>\n",
       "      <td>Installment loan</td>\n",
       "      <td>Managing the loan or lease</td>\n",
       "      <td>NaN</td>\n",
       "      <td>I had a lien through Fifth Third bank on my ve...</td>\n",
       "      <td>NaN</td>\n",
       "      <td>FIFTH THIRD FINANCIAL CORPORATION</td>\n",
       "      <td>VA</td>\n",
       "      <td>231XX</td>\n",
       "      <td>NaN</td>\n",
       "      <td>Consent provided</td>\n",
       "      <td>Web</td>\n",
       "      <td>2016-08-08</td>\n",
       "      <td>Closed with explanation</td>\n",
       "      <td>Yes</td>\n",
       "      <td>No</td>\n",
       "      <td>2051339</td>\n",
       "    </tr>\n",
       "  </tbody>\n",
       "</table>\n",
       "</div>"
      ],
      "text/plain": [
       "  Date received        Product       Sub-product                       Issue  \\\n",
       "0    2016-10-17  Consumer Loan      Vehicle loan  Managing the loan or lease   \n",
       "1    2016-04-27  Consumer Loan      Vehicle loan  Managing the loan or lease   \n",
       "2    2016-02-26  Consumer Loan      Vehicle loan  Managing the loan or lease   \n",
       "3    2016-10-03  Consumer Loan  Installment loan  Managing the loan or lease   \n",
       "4    2016-08-08  Consumer Loan  Installment loan  Managing the loan or lease   \n",
       "\n",
       "  Sub-issue                       Consumer_complaint_narrative  \\\n",
       "0       NaN  I purchased a new car on XXXX XXXX. The car de...   \n",
       "1       NaN  In XXXX of XXXX I bought a new car. The dealer...   \n",
       "2       NaN  I had several XXXX XX/XX/XXXX,XX/XX/XXXX and X...   \n",
       "3       NaN  I have taken out a loan with Citizens One thro...   \n",
       "4       NaN  I had a lien through Fifth Third bank on my ve...   \n",
       "\n",
       "  Company public response                            Company State ZIP code  \\\n",
       "0                     NaN     CITIZENS FINANCIAL GROUP, INC.    PA    177XX   \n",
       "1                     NaN     CITIZENS FINANCIAL GROUP, INC.    IN    460XX   \n",
       "2                     NaN    TOYOTA MOTOR CREDIT CORPORATION    IL    604XX   \n",
       "3                     NaN     CITIZENS FINANCIAL GROUP, INC.    NY    117XX   \n",
       "4                     NaN  FIFTH THIRD FINANCIAL CORPORATION    VA    231XX   \n",
       "\n",
       "             Tags Consumer consent provided? Submitted via  \\\n",
       "0  Older American           Consent provided           Web   \n",
       "1             NaN           Consent provided           Web   \n",
       "2             NaN           Consent provided           Web   \n",
       "3             NaN           Consent provided           Web   \n",
       "4             NaN           Consent provided           Web   \n",
       "\n",
       "  Date sent to company Company response to consumer Timely response?  \\\n",
       "0           2016-10-20      Closed with explanation              Yes   \n",
       "1           2016-04-29  Closed with monetary relief              Yes   \n",
       "2           2016-03-02      Closed with explanation              Yes   \n",
       "3           2016-10-05      Closed with explanation              Yes   \n",
       "4           2016-08-08      Closed with explanation              Yes   \n",
       "\n",
       "  Consumer disputed?  Complaint ID  \n",
       "0                 No       2163100  \n",
       "1                 No       1898052  \n",
       "2                Yes       1806140  \n",
       "3                 No       2140702  \n",
       "4                 No       2051339  "
      ]
     },
     "execution_count": 5,
     "metadata": {},
     "output_type": "execute_result"
    }
   ],
   "source": [
    "df.head()"
   ]
  },
  {
   "cell_type": "code",
   "execution_count": 6,
   "metadata": {},
   "outputs": [
    {
     "name": "stdout",
     "output_type": "stream",
     "text": [
      "<class 'pandas.core.frame.DataFrame'>\n",
      "RangeIndex: 16197 entries, 0 to 16196\n",
      "Data columns (total 18 columns):\n",
      "Date received                   16197 non-null datetime64[ns]\n",
      "Product                         16197 non-null object\n",
      "Sub-product                     12100 non-null object\n",
      "Issue                           16197 non-null object\n",
      "Sub-issue                       4550 non-null object\n",
      "Consumer_complaint_narrative    16195 non-null object\n",
      "Company public response         8032 non-null object\n",
      "Company                         16197 non-null object\n",
      "State                           16185 non-null object\n",
      "ZIP code                        16184 non-null object\n",
      "Tags                            2647 non-null object\n",
      "Consumer consent provided?      16197 non-null object\n",
      "Submitted via                   16197 non-null object\n",
      "Date sent to company            16197 non-null datetime64[ns]\n",
      "Company response to consumer    16197 non-null object\n",
      "Timely response?                16197 non-null object\n",
      "Consumer disputed?              16189 non-null object\n",
      "Complaint ID                    16197 non-null int64\n",
      "dtypes: datetime64[ns](2), int64(1), object(15)\n",
      "memory usage: 2.2+ MB\n"
     ]
    }
   ],
   "source": [
    "df.info()"
   ]
  },
  {
   "cell_type": "code",
   "execution_count": 7,
   "metadata": {},
   "outputs": [
    {
     "data": {
      "text/plain": [
       "(16197, 18)"
      ]
     },
     "execution_count": 7,
     "metadata": {},
     "output_type": "execute_result"
    }
   ],
   "source": [
    "df.shape"
   ]
  },
  {
   "cell_type": "code",
   "execution_count": 8,
   "metadata": {},
   "outputs": [
    {
     "data": {
      "text/plain": [
       "Index(['Date received', 'Product', 'Sub-product', 'Issue', 'Sub-issue',\n",
       "       'Consumer_complaint_narrative', 'Company public response', 'Company',\n",
       "       'State', 'ZIP code', 'Tags', 'Consumer consent provided?',\n",
       "       'Submitted via', 'Date sent to company', 'Company response to consumer',\n",
       "       'Timely response?', 'Consumer disputed?', 'Complaint ID'],\n",
       "      dtype='object')"
      ]
     },
     "execution_count": 8,
     "metadata": {},
     "output_type": "execute_result"
    }
   ],
   "source": [
    "df.columns"
   ]
  },
  {
   "cell_type": "code",
   "execution_count": 9,
   "metadata": {
    "collapsed": true
   },
   "outputs": [],
   "source": [
    "df_CFPB = df[['Product', 'Sub-product','Consumer_complaint_narrative']]"
   ]
  },
  {
   "cell_type": "code",
   "execution_count": 10,
   "metadata": {},
   "outputs": [
    {
     "data": {
      "text/html": [
       "<div>\n",
       "<style>\n",
       "    .dataframe thead tr:only-child th {\n",
       "        text-align: right;\n",
       "    }\n",
       "\n",
       "    .dataframe thead th {\n",
       "        text-align: left;\n",
       "    }\n",
       "\n",
       "    .dataframe tbody tr th {\n",
       "        vertical-align: top;\n",
       "    }\n",
       "</style>\n",
       "<table border=\"1\" class=\"dataframe\">\n",
       "  <thead>\n",
       "    <tr style=\"text-align: right;\">\n",
       "      <th></th>\n",
       "      <th>Product</th>\n",
       "      <th>Sub-product</th>\n",
       "      <th>Consumer_complaint_narrative</th>\n",
       "    </tr>\n",
       "  </thead>\n",
       "  <tbody>\n",
       "    <tr>\n",
       "      <th>0</th>\n",
       "      <td>Consumer Loan</td>\n",
       "      <td>Vehicle loan</td>\n",
       "      <td>I purchased a new car on XXXX XXXX. The car de...</td>\n",
       "    </tr>\n",
       "    <tr>\n",
       "      <th>1</th>\n",
       "      <td>Consumer Loan</td>\n",
       "      <td>Vehicle loan</td>\n",
       "      <td>In XXXX of XXXX I bought a new car. The dealer...</td>\n",
       "    </tr>\n",
       "    <tr>\n",
       "      <th>2</th>\n",
       "      <td>Consumer Loan</td>\n",
       "      <td>Vehicle loan</td>\n",
       "      <td>I had several XXXX XX/XX/XXXX,XX/XX/XXXX and X...</td>\n",
       "    </tr>\n",
       "    <tr>\n",
       "      <th>3</th>\n",
       "      <td>Consumer Loan</td>\n",
       "      <td>Installment loan</td>\n",
       "      <td>I have taken out a loan with Citizens One thro...</td>\n",
       "    </tr>\n",
       "    <tr>\n",
       "      <th>4</th>\n",
       "      <td>Consumer Loan</td>\n",
       "      <td>Installment loan</td>\n",
       "      <td>I had a lien through Fifth Third bank on my ve...</td>\n",
       "    </tr>\n",
       "  </tbody>\n",
       "</table>\n",
       "</div>"
      ],
      "text/plain": [
       "         Product       Sub-product  \\\n",
       "0  Consumer Loan      Vehicle loan   \n",
       "1  Consumer Loan      Vehicle loan   \n",
       "2  Consumer Loan      Vehicle loan   \n",
       "3  Consumer Loan  Installment loan   \n",
       "4  Consumer Loan  Installment loan   \n",
       "\n",
       "                        Consumer_complaint_narrative  \n",
       "0  I purchased a new car on XXXX XXXX. The car de...  \n",
       "1  In XXXX of XXXX I bought a new car. The dealer...  \n",
       "2  I had several XXXX XX/XX/XXXX,XX/XX/XXXX and X...  \n",
       "3  I have taken out a loan with Citizens One thro...  \n",
       "4  I had a lien through Fifth Third bank on my ve...  "
      ]
     },
     "execution_count": 10,
     "metadata": {},
     "output_type": "execute_result"
    }
   ],
   "source": [
    "df_CFPB.head(5)"
   ]
  },
  {
   "cell_type": "code",
   "execution_count": 11,
   "metadata": {},
   "outputs": [
    {
     "data": {
      "text/html": [
       "<div>\n",
       "<style>\n",
       "    .dataframe thead tr:only-child th {\n",
       "        text-align: right;\n",
       "    }\n",
       "\n",
       "    .dataframe thead th {\n",
       "        text-align: left;\n",
       "    }\n",
       "\n",
       "    .dataframe tbody tr th {\n",
       "        vertical-align: top;\n",
       "    }\n",
       "</style>\n",
       "<table border=\"1\" class=\"dataframe\">\n",
       "  <thead>\n",
       "    <tr style=\"text-align: right;\">\n",
       "      <th></th>\n",
       "      <th>Product</th>\n",
       "      <th>Sub-product</th>\n",
       "      <th>Consumer_complaint_narrative</th>\n",
       "    </tr>\n",
       "  </thead>\n",
       "  <tbody>\n",
       "    <tr>\n",
       "      <th>16192</th>\n",
       "      <td>Mortgage</td>\n",
       "      <td>Conventional fixed mortgage</td>\n",
       "      <td>My house has already gone through the process ...</td>\n",
       "    </tr>\n",
       "    <tr>\n",
       "      <th>16193</th>\n",
       "      <td>Mortgage</td>\n",
       "      <td>Conventional fixed mortgage</td>\n",
       "      <td>The homeowner has been trying to get a loan mo...</td>\n",
       "    </tr>\n",
       "    <tr>\n",
       "      <th>16194</th>\n",
       "      <td>Mortgage</td>\n",
       "      <td>Conventional fixed mortgage</td>\n",
       "      <td>My loan is currently serviced by Bank of Ameri...</td>\n",
       "    </tr>\n",
       "    <tr>\n",
       "      <th>16195</th>\n",
       "      <td>Mortgage</td>\n",
       "      <td>Conventional fixed mortgage</td>\n",
       "      <td>CITIMORTGAGE IS STEALING MY HOME It 's Gone XX...</td>\n",
       "    </tr>\n",
       "    <tr>\n",
       "      <th>16196</th>\n",
       "      <td>Mortgage</td>\n",
       "      <td>Conventional fixed mortgage</td>\n",
       "      <td>After speaking with CFPB supervisor XXXX XXXX ...</td>\n",
       "    </tr>\n",
       "  </tbody>\n",
       "</table>\n",
       "</div>"
      ],
      "text/plain": [
       "        Product                  Sub-product  \\\n",
       "16192  Mortgage  Conventional fixed mortgage   \n",
       "16193  Mortgage  Conventional fixed mortgage   \n",
       "16194  Mortgage  Conventional fixed mortgage   \n",
       "16195  Mortgage  Conventional fixed mortgage   \n",
       "16196  Mortgage  Conventional fixed mortgage   \n",
       "\n",
       "                            Consumer_complaint_narrative  \n",
       "16192  My house has already gone through the process ...  \n",
       "16193  The homeowner has been trying to get a loan mo...  \n",
       "16194  My loan is currently serviced by Bank of Ameri...  \n",
       "16195  CITIMORTGAGE IS STEALING MY HOME It 's Gone XX...  \n",
       "16196  After speaking with CFPB supervisor XXXX XXXX ...  "
      ]
     },
     "execution_count": 11,
     "metadata": {},
     "output_type": "execute_result"
    }
   ],
   "source": [
    "df_CFPB.tail(5)"
   ]
  },
  {
   "cell_type": "code",
   "execution_count": 12,
   "metadata": {},
   "outputs": [
    {
     "data": {
      "text/plain": [
       "Mortgage            7024\n",
       "Consumer Loan       4623\n",
       "Credit reporting    4097\n",
       "Debt collection      453\n",
       "Name: Product, dtype: int64"
      ]
     },
     "execution_count": 12,
     "metadata": {},
     "output_type": "execute_result"
    }
   ],
   "source": [
    "#Class imbalance\n",
    "df_CFPB['Product'].value_counts()"
   ]
  },
  {
   "cell_type": "code",
   "execution_count": 13,
   "metadata": {},
   "outputs": [
    {
     "name": "stderr",
     "output_type": "stream",
     "text": [
      "C:\\Users\\rajam\\Anaconda3\\lib\\site-packages\\ipykernel_launcher.py:1: SettingWithCopyWarning: \n",
      "A value is trying to be set on a copy of a slice from a DataFrame.\n",
      "Try using .loc[row_indexer,col_indexer] = value instead\n",
      "\n",
      "See the caveats in the documentation: http://pandas.pydata.org/pandas-docs/stable/indexing.html#indexing-view-versus-copy\n",
      "  \"\"\"Entry point for launching an IPython kernel.\n"
     ]
    }
   ],
   "source": [
    "df_CFPB['Product_id'] = df_CFPB['Product'].factorize()[0]"
   ]
  },
  {
   "cell_type": "code",
   "execution_count": 14,
   "metadata": {},
   "outputs": [
    {
     "data": {
      "text/html": [
       "<div>\n",
       "<style>\n",
       "    .dataframe thead tr:only-child th {\n",
       "        text-align: right;\n",
       "    }\n",
       "\n",
       "    .dataframe thead th {\n",
       "        text-align: left;\n",
       "    }\n",
       "\n",
       "    .dataframe tbody tr th {\n",
       "        vertical-align: top;\n",
       "    }\n",
       "</style>\n",
       "<table border=\"1\" class=\"dataframe\">\n",
       "  <thead>\n",
       "    <tr style=\"text-align: right;\">\n",
       "      <th></th>\n",
       "      <th>Product</th>\n",
       "      <th>Sub-product</th>\n",
       "      <th>Consumer_complaint_narrative</th>\n",
       "      <th>Product_id</th>\n",
       "    </tr>\n",
       "  </thead>\n",
       "  <tbody>\n",
       "    <tr>\n",
       "      <th>16192</th>\n",
       "      <td>Mortgage</td>\n",
       "      <td>Conventional fixed mortgage</td>\n",
       "      <td>My house has already gone through the process ...</td>\n",
       "      <td>3</td>\n",
       "    </tr>\n",
       "    <tr>\n",
       "      <th>16193</th>\n",
       "      <td>Mortgage</td>\n",
       "      <td>Conventional fixed mortgage</td>\n",
       "      <td>The homeowner has been trying to get a loan mo...</td>\n",
       "      <td>3</td>\n",
       "    </tr>\n",
       "    <tr>\n",
       "      <th>16194</th>\n",
       "      <td>Mortgage</td>\n",
       "      <td>Conventional fixed mortgage</td>\n",
       "      <td>My loan is currently serviced by Bank of Ameri...</td>\n",
       "      <td>3</td>\n",
       "    </tr>\n",
       "    <tr>\n",
       "      <th>16195</th>\n",
       "      <td>Mortgage</td>\n",
       "      <td>Conventional fixed mortgage</td>\n",
       "      <td>CITIMORTGAGE IS STEALING MY HOME It 's Gone XX...</td>\n",
       "      <td>3</td>\n",
       "    </tr>\n",
       "    <tr>\n",
       "      <th>16196</th>\n",
       "      <td>Mortgage</td>\n",
       "      <td>Conventional fixed mortgage</td>\n",
       "      <td>After speaking with CFPB supervisor XXXX XXXX ...</td>\n",
       "      <td>3</td>\n",
       "    </tr>\n",
       "  </tbody>\n",
       "</table>\n",
       "</div>"
      ],
      "text/plain": [
       "        Product                  Sub-product  \\\n",
       "16192  Mortgage  Conventional fixed mortgage   \n",
       "16193  Mortgage  Conventional fixed mortgage   \n",
       "16194  Mortgage  Conventional fixed mortgage   \n",
       "16195  Mortgage  Conventional fixed mortgage   \n",
       "16196  Mortgage  Conventional fixed mortgage   \n",
       "\n",
       "                            Consumer_complaint_narrative  Product_id  \n",
       "16192  My house has already gone through the process ...           3  \n",
       "16193  The homeowner has been trying to get a loan mo...           3  \n",
       "16194  My loan is currently serviced by Bank of Ameri...           3  \n",
       "16195  CITIMORTGAGE IS STEALING MY HOME It 's Gone XX...           3  \n",
       "16196  After speaking with CFPB supervisor XXXX XXXX ...           3  "
      ]
     },
     "execution_count": 14,
     "metadata": {},
     "output_type": "execute_result"
    }
   ],
   "source": [
    "df_CFPB.tail()"
   ]
  },
  {
   "cell_type": "code",
   "execution_count": 16,
   "metadata": {},
   "outputs": [],
   "source": [
    "df_CFPB = df_CFPB[pd.notnull(df_CFPB['Consumer_complaint_narrative'])]"
   ]
  },
  {
   "cell_type": "code",
   "execution_count": 17,
   "metadata": {},
   "outputs": [],
   "source": [
    "df_CFPB_Id = df_CFPB[['Product','Consumer_complaint_narrative','Product_id']]\n",
    "#df_CFPB_Id['Consumer_complaint_narrative'] = df_CFPB[pd.notnull(df_CFPB['Consumer_complaint_narrative'])]\n"
   ]
  },
  {
   "cell_type": "code",
   "execution_count": 18,
   "metadata": {},
   "outputs": [
    {
     "data": {
      "text/html": [
       "<div>\n",
       "<style>\n",
       "    .dataframe thead tr:only-child th {\n",
       "        text-align: right;\n",
       "    }\n",
       "\n",
       "    .dataframe thead th {\n",
       "        text-align: left;\n",
       "    }\n",
       "\n",
       "    .dataframe tbody tr th {\n",
       "        vertical-align: top;\n",
       "    }\n",
       "</style>\n",
       "<table border=\"1\" class=\"dataframe\">\n",
       "  <thead>\n",
       "    <tr style=\"text-align: right;\">\n",
       "      <th></th>\n",
       "      <th>Product</th>\n",
       "      <th>Consumer_complaint_narrative</th>\n",
       "      <th>Product_id</th>\n",
       "    </tr>\n",
       "  </thead>\n",
       "  <tbody>\n",
       "    <tr>\n",
       "      <th>16192</th>\n",
       "      <td>Mortgage</td>\n",
       "      <td>My house has already gone through the process ...</td>\n",
       "      <td>3</td>\n",
       "    </tr>\n",
       "    <tr>\n",
       "      <th>16193</th>\n",
       "      <td>Mortgage</td>\n",
       "      <td>The homeowner has been trying to get a loan mo...</td>\n",
       "      <td>3</td>\n",
       "    </tr>\n",
       "    <tr>\n",
       "      <th>16194</th>\n",
       "      <td>Mortgage</td>\n",
       "      <td>My loan is currently serviced by Bank of Ameri...</td>\n",
       "      <td>3</td>\n",
       "    </tr>\n",
       "    <tr>\n",
       "      <th>16195</th>\n",
       "      <td>Mortgage</td>\n",
       "      <td>CITIMORTGAGE IS STEALING MY HOME It 's Gone XX...</td>\n",
       "      <td>3</td>\n",
       "    </tr>\n",
       "    <tr>\n",
       "      <th>16196</th>\n",
       "      <td>Mortgage</td>\n",
       "      <td>After speaking with CFPB supervisor XXXX XXXX ...</td>\n",
       "      <td>3</td>\n",
       "    </tr>\n",
       "  </tbody>\n",
       "</table>\n",
       "</div>"
      ],
      "text/plain": [
       "        Product                       Consumer_complaint_narrative  Product_id\n",
       "16192  Mortgage  My house has already gone through the process ...           3\n",
       "16193  Mortgage  The homeowner has been trying to get a loan mo...           3\n",
       "16194  Mortgage  My loan is currently serviced by Bank of Ameri...           3\n",
       "16195  Mortgage  CITIMORTGAGE IS STEALING MY HOME It 's Gone XX...           3\n",
       "16196  Mortgage  After speaking with CFPB supervisor XXXX XXXX ...           3"
      ]
     },
     "execution_count": 18,
     "metadata": {},
     "output_type": "execute_result"
    }
   ],
   "source": [
    "df_CFPB_Id.tail()"
   ]
  },
  {
   "cell_type": "markdown",
   "metadata": {},
   "source": [
    "### Data Visualization"
   ]
  },
  {
   "cell_type": "markdown",
   "metadata": {},
   "source": [
    "#### Number of complaints per product"
   ]
  },
  {
   "cell_type": "code",
   "execution_count": 19,
   "metadata": {},
   "outputs": [
    {
     "data": {
      "text/plain": [
       "<matplotlib.axes._subplots.AxesSubplot at 0x17b44e08470>"
      ]
     },
     "execution_count": 19,
     "metadata": {},
     "output_type": "execute_result"
    },
    {
     "data": {
      "image/png": "[encoded data removed]",
      "text/plain": [
       "<matplotlib.figure.Figure at 0x17b4002d828>"
      ]
     },
     "metadata": {},
     "output_type": "display_data"
    }
   ],
   "source": [
    "df_CFPB_Id.groupby('Product').Consumer_complaint_narrative.count().plot.bar()"
   ]
  },
  {
   "cell_type": "markdown",
   "metadata": {},
   "source": [
    "## Text Classification"
   ]
  },
  {
   "cell_type": "markdown",
   "metadata": {},
   "source": [
    "##### Train/Test Split"
   ]
  },
  {
   "cell_type": "code",
   "execution_count": 20,
   "metadata": {},
   "outputs": [],
   "source": [
    "X = df_CFPB_Id['Consumer_complaint_narrative']\n",
    "y = df_CFPB_Id['Product_id']\n",
    "from sklearn.model_selection import train_test_split\n",
    "X_train,X_test,y_train,y_test = train_test_split(X,y,test_size=0.3,random_state=101)"
   ]
  },
  {
   "cell_type": "markdown",
   "metadata": {},
   "source": [
    "#### Vectorization"
   ]
  },
  {
   "cell_type": "code",
   "execution_count": 21,
   "metadata": {
    "collapsed": true
   },
   "outputs": [],
   "source": [
    "from sklearn.feature_extraction.text import TfidfVectorizer"
   ]
  },
  {
   "cell_type": "code",
   "execution_count": 22,
   "metadata": {},
   "outputs": [],
   "source": [
    "vectorizer = TfidfVectorizer(stop_words='english')\n",
    "vectorized = vectorizer.fit_transform(X_train).toarray()"
   ]
  },
  {
   "cell_type": "code",
   "execution_count": 23,
   "metadata": {},
   "outputs": [
    {
     "data": {
      "text/plain": [
       "(11336, 21684)"
      ]
     },
     "execution_count": 23,
     "metadata": {},
     "output_type": "execute_result"
    }
   ],
   "source": [
    "vectorized.shape"
   ]
  },
  {
   "cell_type": "markdown",
   "metadata": {},
   "source": [
    "## Create a Model"
   ]
  },
  {
   "cell_type": "code",
   "execution_count": 24,
   "metadata": {
    "collapsed": true
   },
   "outputs": [],
   "source": [
    "from sklearn.naive_bayes import MultinomialNB"
   ]
  },
  {
   "cell_type": "code",
   "execution_count": 25,
   "metadata": {
    "collapsed": true
   },
   "outputs": [],
   "source": [
    "mnb = MultinomialNB().fit(vectorized,y_train)"
   ]
  },
  {
   "cell_type": "code",
   "execution_count": 26,
   "metadata": {},
   "outputs": [
    {
     "name": "stdout",
     "output_type": "stream",
     "text": [
      "[3]\n"
     ]
    }
   ],
   "source": [
    "print(mnb.predict(vectorizer.transform([\"My house has already gone through the process of foreclosure.\\\n",
    "                                        I was notified by my insurance \\\n",
    "                                        company that XXXX requested to be added to my insurance account just a few \"])))"
   ]
  },
  {
   "cell_type": "code",
   "execution_count": 27,
   "metadata": {},
   "outputs": [
    {
     "name": "stdout",
     "output_type": "stream",
     "text": [
      "[1]\n"
     ]
    }
   ],
   "source": [
    "print(mnb.predict(vectorizer.transform([\"I have been issuing credit disputes regarding medical bills\\\n",
    "                                        and car loans that were my ex husbands, and as soon as they \\\n",
    "                                        take it off the report it is put back on causing my credit \"])))\n"
   ]
  },
  {
   "cell_type": "markdown",
   "metadata": {},
   "source": [
    "## Model Selection"
   ]
  },
  {
   "cell_type": "code",
   "execution_count": 46,
   "metadata": {},
   "outputs": [],
   "source": [
    "from sklearn.svm import LinearSVC\n",
    "from sklearn.tree import DecisionTreeClassifier\n",
    "#from sklearn.ensemble import RandomForestClassifier\n",
    "from sklearn.model_selection import cross_val_score"
   ]
  },
  {
   "cell_type": "code",
   "execution_count": 47,
   "metadata": {},
   "outputs": [
    {
     "name": "stdout",
     "output_type": "stream",
     "text": [
      "SVM\n",
      "Mnb\n",
      "Tree\n"
     ]
    }
   ],
   "source": [
    "models = []\n",
    "models.append(('SVM',LinearSVC()))\n",
    "models.append(('Mnb',MultinomialNB()))\n",
    "models.append(('Tree',DecisionTreeClassifier()))\n",
    "\n",
    "#models = [MultinomialNB(), SVC(), RandomForestClassifier(n_estimators=100,max_depth=3,random_state=101)]\n",
    "\n",
    "Scores = []\n",
    "for name, model in models:\n",
    "    model_name = name\n",
    "    print(model_name)\n",
    "    accuracies = cross_val_score(model,vectorized,y_train,scoring='accuracy',cv=5)\n",
    "    \n",
    "    for fold,accuracy in enumerate(accuracies):\n",
    "        Scores.append((model_name,fold,accuracy))\n",
    "        cv_df = pd.DataFrame(Scores, columns=['Model_name','fold','accuracy'])\n"
   ]
  },
  {
   "cell_type": "code",
   "execution_count": 48,
   "metadata": {},
   "outputs": [
    {
     "data": {
      "text/plain": [
       "Model_name\n",
       "Mnb     0.893349\n",
       "SVM     0.955189\n",
       "Tree    0.889555\n",
       "Name: accuracy, dtype: float64"
      ]
     },
     "execution_count": 48,
     "metadata": {},
     "output_type": "execute_result"
    }
   ],
   "source": [
    "cv_df.groupby('Model_name').accuracy.mean()"
   ]
  },
  {
   "cell_type": "code",
   "execution_count": null,
   "metadata": {
    "collapsed": true
   },
   "outputs": [],
   "source": []
  }
 ],
 "metadata": {
  "kernelspec": {
   "display_name": "Python 3",
   "language": "python",
   "name": "python3"
  },
  "language_info": {
   "codemirror_mode": {
    "name": "ipython",
    "version": 3
   },
   "file_extension": ".py",
   "mimetype": "text/x-python",
   "name": "python",
   "nbconvert_exporter": "python",
   "pygments_lexer": "ipython3",
   "version": "3.6.1"
  }
 },
 "nbformat": 4,
 "nbformat_minor": 2
}
